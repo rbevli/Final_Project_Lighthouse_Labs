{
 "cells": [
  {
   "cell_type": "code",
   "execution_count": 1,
   "id": "7f8018d0",
   "metadata": {},
   "outputs": [],
   "source": [
    "#import libraries\n",
    "import pandas as pd\n",
    "import numpy as np\n",
    "import random as rd\n",
    "import matplotlib.pyplot as plt\n",
    "from sklearn.cluster import KMeans\n",
    "from sklearn.neighbors import NearestNeighbors, KNeighborsClassifier\n",
    "from sklearn.compose import ColumnTransformer\n",
    "from sklearn.preprocessing import OneHotEncoder\n",
    "from sklearn.preprocessing import StandardScaler,MinMaxScaler\n",
    "from sklearn.pipeline import Pipeline, FeatureUnion\n",
    "from sklearn.model_selection import train_test_split\n"
   ]
  },
  {
   "cell_type": "code",
   "execution_count": null,
   "id": "498cb910",
   "metadata": {},
   "outputs": [],
   "source": [
    "# read csv file\n",
    "\n",
    "df = pd.read_csv(\"houses_cleaned_baselineKNN_crimedata_foursquare.csv\", index_col = 0)"
   ]
  },
  {
   "cell_type": "code",
   "execution_count": null,
   "id": "1b436eb5",
   "metadata": {},
   "outputs": [],
   "source": [
    "df"
   ]
  },
  {
   "cell_type": "code",
   "execution_count": null,
   "id": "d5886d16",
   "metadata": {},
   "outputs": [],
   "source": [
    "df.columns"
   ]
  },
  {
   "cell_type": "code",
   "execution_count": null,
   "id": "1cfd64b5",
   "metadata": {},
   "outputs": [],
   "source": [
    "X = df[['bathrooms', 'parking', 'type','final_price',\n",
    "       'Neighbourhood','bedroom', 'den', 'sqft']]"
   ]
  },
  {
   "cell_type": "code",
   "execution_count": null,
   "id": "77e35ff2",
   "metadata": {},
   "outputs": [],
   "source": [
    "#Column Transformer and Creating Pipeline for pre-processing\n",
    "\n",
    "preprocessor = ColumnTransformer(transformers=[\n",
    "    ('onehot', OneHotEncoder(), ['type','Neighbourhood']),\n",
    "    ('scaler', MinMaxScaler(), ['bathrooms', 'parking','final_price',\n",
    "                                'bedroom', 'den', 'sqft'])])\n"
   ]
  },
  {
   "cell_type": "code",
   "execution_count": null,
   "id": "aa0161ea",
   "metadata": {},
   "outputs": [],
   "source": [
    "X_processed = preprocessor.fit_transform(X)"
   ]
  },
  {
   "cell_type": "code",
   "execution_count": null,
   "id": "28b100ac",
   "metadata": {},
   "outputs": [],
   "source": [
    "# fit nearest neighbours\n",
    "nbrs = NearestNeighbors(n_neighbors = 5)\n",
    "nbrs.fit(X_processed)"
   ]
  },
  {
   "cell_type": "code",
   "execution_count": null,
   "id": "88f015b1",
   "metadata": {},
   "outputs": [],
   "source": [
    "distances, indices = nbrs.kneighbors(X_processed)"
   ]
  },
  {
   "cell_type": "code",
   "execution_count": null,
   "id": "12b7a05d",
   "metadata": {},
   "outputs": [],
   "source": [
    "distances"
   ]
  },
  {
   "cell_type": "markdown",
   "id": "0e97b8fa",
   "metadata": {},
   "source": [
    "#### Query functions"
   ]
  },
  {
   "cell_type": "code",
   "execution_count": null,
   "id": "4a41f21e",
   "metadata": {},
   "outputs": [],
   "source": [
    "# data = [[2, 1, 'Condo Apt', 855000,'Bay Street Corridor', 5, 1, 3000]]\n",
    "data = [[2, 1, 'Condo Apt', 855000,'Highland Creek', 2, 1, 850]]\n",
    "\n",
    "X_test = pd.DataFrame(data, columns=['bathrooms', 'parking', 'type', 'final_price', 'Neighbourhood',\n",
    "       'bedroom', 'den', 'sqft'])"
   ]
  },
  {
   "cell_type": "code",
   "execution_count": null,
   "id": "c3a79844",
   "metadata": {},
   "outputs": [],
   "source": [
    "X = X.append(X_test,ignore_index = True)"
   ]
  },
  {
   "cell_type": "code",
   "execution_count": null,
   "id": "04266c46",
   "metadata": {},
   "outputs": [],
   "source": [
    "#Column Transformer and Creating Pipeline for pre-processing\n",
    "\n",
    "def recommender(data):\n",
    "\n",
    "    X = df[['bathrooms', 'parking', 'type','final_price',\n",
    "       'Neighbourhood','bedroom', 'den', 'sqft']]\n",
    "    \n",
    "    X_test = pd.DataFrame(data, columns=['bathrooms', 'parking', 'type', 'final_price', 'Neighbourhood',\n",
    "       'bedroom', 'den', 'sqft'])\n",
    "    \n",
    "    X = X.append(X_test,ignore_index = True)\n",
    "    \n",
    "    preprocessor = ColumnTransformer(transformers=[\n",
    "        ('onehot', OneHotEncoder(), ['type','Neighbourhood']),\n",
    "        ('scaler', MinMaxScaler(), ['bathrooms', 'parking','final_price',\n",
    "                                    'bedroom', 'den', 'sqft'])])\n",
    "\n",
    "    \n",
    "    X_processed = preprocessor.fit_transform(X)\n",
    "\n",
    "    # fit nearest neighbours\n",
    "    nbrs = NearestNeighbors(n_neighbors = 5)\n",
    "    nbrs.fit(X_processed)\n",
    "\n",
    "    distances, indices = nbrs.kneighbors(X_processed)\n",
    "    \n",
    "    def print_similar(id):\n",
    "        for id in indices[id][1:]:\n",
    "            print (df.iloc[id])\n",
    "\n",
    "    print_similar(X.index[-1])\n",
    "    \n",
    "    "
   ]
  },
  {
   "cell_type": "code",
   "execution_count": null,
   "id": "afc761e1",
   "metadata": {},
   "outputs": [],
   "source": [
    "data = [[2, 1, 'Detached', 1000000,'Highland Creek', 4, 1, 2000]]\n",
    "recommender(data)"
   ]
  },
  {
   "cell_type": "code",
   "execution_count": null,
   "id": "d21d459c",
   "metadata": {},
   "outputs": [],
   "source": []
  }
 ],
 "metadata": {
  "kernelspec": {
   "display_name": "Python 3 (ipykernel)",
   "language": "python",
   "name": "python3"
  },
  "language_info": {
   "codemirror_mode": {
    "name": "ipython",
    "version": 3
   },
   "file_extension": ".py",
   "mimetype": "text/x-python",
   "name": "python",
   "nbconvert_exporter": "python",
   "pygments_lexer": "ipython3",
   "version": "3.9.7"
  }
 },
 "nbformat": 4,
 "nbformat_minor": 5
}
