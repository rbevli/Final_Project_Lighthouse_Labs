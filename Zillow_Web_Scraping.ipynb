{
  "nbformat": 4,
  "nbformat_minor": 0,
  "metadata": {
    "colab": {
      "name": "Page2API.ipynb",
      "provenance": [],
      "collapsed_sections": []
    },
    "kernelspec": {
      "name": "python3",
      "display_name": "Python 3"
    },
    "language_info": {
      "name": "python"
    }
  },
  "cells": [
    {
      "cell_type": "code",
      "execution_count": null,
      "metadata": {
        "colab": {
          "base_uri": "https://localhost:8080/"
        },
        "id": "Avh9P39j3P6v",
        "outputId": "3a483b72-ed39-4522-95ee-da9d7405f2cc"
      },
      "outputs": [
        {
          "output_type": "execute_result",
          "data": {
            "text/plain": [
              "<Response [200]>"
            ]
          },
          "metadata": {},
          "execution_count": 1
        }
      ],
      "source": [
        "import requests\n",
        "\n",
        "requests.get(\"https://www.page2api.com/api/v1/scrape/encoded/eyJhcGlfa2V5IjoiMmU1Y2VkMWY5ZWZmOTBjOGQ2MWY5ZGUzMzExYjk1NTFhZWUxODhiNiIsInVybCI6Imh0dHBzOi8vd3d3LnppbGxvdy5jb20vaG9tZXMvUmVkd29vZC1DaXR5LC1DQV9yYi8iLCJyZWFsX2Jyb3dzZXIiOnRydWUsInBhcnNlIjp7InRpdGxlX2h0bWwiOiJoMSIsImxpbmtfdGV4dCI6Ii9odG1sL2JvZHkvZGl2L3BbMl0vYSA-PiB0ZXh0IiwibGlua19ocmVmIjoiL2h0bWwvYm9keS9kaXYvcFsyXS9hID4-IGhyZWYifX0\")"
      ]
    },
    {
      "cell_type": "code",
      "source": [
        "import requests\n",
        "import json\n",
        "\n",
        "api_url = 'https://www.page2api.com/api/v1/scrape'\n",
        "payload = {\n",
        "  \"api_key\": \"c40ddb7dc75637af445be1ff2066b96136983936\",\n",
        "  \"url\": \"https://www.zillow.com/homedetails/2050-Bridletowne-Cir-408-Toronto-ON-M1W-2V5/2062148302_zpid/\",\n",
        "  \"real_browser\": True,\n",
        "  \"premium_proxy\": \"de\",\n",
        "  \"wait_for\": \".data-view-container\",\n",
        "  \"parse\": {\n",
        "    \"price\": \".dpf__sc-2arhs5-0 ecJCxh span span >> text\",\n",
        "    \"address\": \"h1 >> text\",\n",
        "    # \"bedrooms\": \".ds-bed-bath-living-area-container span span >> text\",\n",
        "    \"factsnfeatures\": \"ul.dpf__sc-xzpkxd-0.kExvOu\",\n",
        "    # \"bathrooms\": \"ul.dpf__sc-xzpkxd-0.kExvOu li:nth-child(3) >> text\",\n",
        "    # \"year_built\":\"ul.dpf__sc-xzpkxd-0.kExvOu li:nth-child(4) >> text\",\n",
        "    \"living_area\": \".ds-bed-bath-living-area-container span:nth-child(5) span >> text\",\n",
        "    \"status\": \".ds-status-details >> text\",\n",
        "    \"overview\": \".ds-overview-section >> text\",\n",
        "    \"time_on_zillow\": \"//*[contains(text(),'Time on Zillow')]/../div[2] >> text\",\n",
        "    \"views\": \"//*[contains(text(),'Time on Zillow')]/../../div[2]/div[2] >> text\",\n",
        "    \"saves\": \"//*[contains(text(),'Time on Zillow')]/../../div[3]/div[2] >> text\",\n",
        "    \"images\": [\n",
        "      \".media-stream-tile picture img >> src\"\n",
        "    ]\n",
        "  }\n",
        "}\n",
        "\n",
        "headers = {'Content-type': 'application/json', 'Accept': 'text/plain'}\n",
        "response = requests.post(api_url, data=json.dumps(payload), headers=headers)\n",
        "result = json.loads(response.text)\n",
        "\n",
        "# pd.DataFrame(result['result'])\n",
        "  \n"
      ],
      "metadata": {
        "id": "C4jrl9gS4XEE"
      },
      "execution_count": null,
      "outputs": []
    },
    {
      "cell_type": "code",
      "source": [
        "result"
      ],
      "metadata": {
        "colab": {
          "base_uri": "https://localhost:8080/"
        },
        "id": "5_pmU-Ycvkha",
        "outputId": "c6dfecd2-a719-49ad-a6d6-fe278e825583"
      },
      "execution_count": null,
      "outputs": [
        {
          "output_type": "execute_result",
          "data": {
            "text/plain": [
              "{'cost': 0.0125,\n",
              " 'duration': 7.09,\n",
              " 'id': 3870132,\n",
              " 'pages_parsed': 1,\n",
              " 'request': {'parse': {'address': 'h1 >> text',\n",
              "   'factsnfeatures': 'ul.dpf__sc-xzpkxd-0.kExvOu',\n",
              "   'images': ['.media-stream-tile picture img >> src'],\n",
              "   'living_area': '.ds-bed-bath-living-area-container span:nth-child(5) span >> text',\n",
              "   'overview': '.ds-overview-section >> text',\n",
              "   'price': '.dpf__sc-2arhs5-0 ecJCxh span span >> text',\n",
              "   'saves': \"//*[contains(text(),'Time on Zillow')]/../../div[3]/div[2] >> text\",\n",
              "   'status': '.ds-status-details >> text',\n",
              "   'time_on_zillow': \"//*[contains(text(),'Time on Zillow')]/../div[2] >> text\",\n",
              "   'views': \"//*[contains(text(),'Time on Zillow')]/../../div[2]/div[2] >> text\"},\n",
              "  'premium_proxy': 'de',\n",
              "  'real_browser': True,\n",
              "  'scenario': [{'wait_for': '.data-view-container'}, {'execute': 'parse'}],\n",
              "  'url': 'https://www.zillow.com/homedetails/2050-Bridletowne-Cir-408-Toronto-ON-M1W-2V5/2062148302_zpid/',\n",
              "  'wait_for': '.data-view-container'},\n",
              " 'result': {'address': '2050 Bridletowne Cir #408, Toronto, ON M1W 2V5',\n",
              "  'factsnfeatures': '<ul class=\"dpf__sc-xzpkxd-0 kExvOu\"> <li class=\"dpf__sc-2arhs5-0 ecJCxh\"> <span class=\"dpf__sc-2arhs5-1 iJTVOZ\"><svg viewbox=\"0 0 32 32\" aria-hidden=\"true\" focusable=\"false\" role=\"img\" class=\"Icon-c11n-8-65-2__sc-13llmml-0 gSYUJI\"><title>Type</title> <g stroke=\"none\"><path d=\"M24 2H8a2 2 0 00-2 2v24a2 2 0 002 2h16a2 2 0 002-2V4a2 2 0 00-2-2zm-9 26v-5h2v5zm9 0h-5v-6.5a.5.5 0 00-.5-.5h-5a.5.5 0 00-.5.5V28H8V4h16z\"></path><rect x=\"11\" y=\"13\" width=\"4\" height=\"4\" rx=\".5\"></rect><rect x=\"17\" y=\"13\" width=\"4\" height=\"4\" rx=\".5\"></rect><rect x=\"11\" y=\"7\" width=\"4\" height=\"4\" rx=\".5\"></rect><rect x=\"17\" y=\"7\" width=\"4\" height=\"4\" rx=\".5\"></rect></g></svg></span><div class=\"Spacer-c11n-8-65-2__sc-17suqs2-0 eAcJGW\"></div> <span class=\"Text-c11n-8-65-2__sc-aiai24-0 dpf__sc-2arhs5-3 kpJbvM btxEYg\">Condo</span> </li> <li class=\"dpf__sc-2arhs5-0 ecJCxh\"> <span class=\"dpf__sc-2arhs5-1 iJTVOZ\"><svg viewbox=\"0 0 32 32\" aria-hidden=\"true\" focusable=\"false\" role=\"img\" class=\"Icon-c11n-8-65-2__sc-13llmml-0 gSYUJI\"><title>Heating</title> <g stroke=\"none\"><path d=\"M21 18.11V7a5 5 0 00-10 0v11.11a7 7 0 1010 0zM16 28a5 5 0 01-3.57-8.5l.57-.58V7a3 3 0 016 0v11.92l.57.58A5 5 0 0116 28z\"></path><path d=\"M17 20.18V8a1 1 0 00-2 0v12.18a3 3 0 102 0z\"></path></g></svg></span><div class=\"Spacer-c11n-8-65-2__sc-17suqs2-0 eAcJGW\"></div> <span class=\"Text-c11n-8-65-2__sc-aiai24-0 dpf__sc-2arhs5-3 kpJbvM btxEYg\">Gas</span> </li> <li class=\"dpf__sc-2arhs5-0 ecJCxh\"> <span class=\"dpf__sc-2arhs5-1 iJTVOZ\"><svg viewbox=\"0 0 32 32\" aria-hidden=\"true\" focusable=\"false\" role=\"img\" class=\"Icon-c11n-8-65-2__sc-13llmml-0 gSYUJI\"><title>Cooling</title> <path stroke=\"none\" d=\"M28.49 17.71a1 1 0 00-1.23-.71l-5.06 1.34L18 16l4.2-2.34L27.26 15h.26a1 1 0 001-.71 1 1 0 00-.71-1.18l-3.13-.81 3.1-1.73a.94.94 0 00.37-1.31 1 1 0 00-1.37-.35l-3.1 1.72.84-3a1 1 0 00-.71-1.18 1 1 0 00-1.22.68L21.2 12 17 14.33V9.66l3.7-3.57a.94.94 0 000-1.36 1 1 0 00-1.41 0L17 6.93V3a1 1 0 00-2 0v4l-2.29-2.2a1 1 0 00-1.41 0 .94.94 0 000 1.36l3.7 3.5v4.67L10.8 12 9.44 7.12a1 1 0 00-1.22-.68 1 1 0 00-.71 1.18l.84 3-3.1-1.71a1 1 0 00-1.37.35.94.94 0 00.37 1.31l3.1 1.73-3.13.81a1 1 0 00-.71 1.18 1 1 0 001 .71h.26l5.03-1.34L14 16l-4.2 2.34L4.74 17a1 1 0 00-1.23.68 1 1 0 00.71 1.18l3.13.81-3.1 1.73a.94.94 0 00-.37 1.31 1 1 0 001.37.35l3.1-1.72-.84 3a1 1 0 00.71 1.18.78.78 0 00.26 0 1 1 0 001-.72L10.8 20l4.2-2.33v4.67l-3.7 3.57a.94.94 0 000 1.36 1 1 0 001.41 0l2.29-2.2v4a1 1 0 002 0v-4l2.29 2.2a1 1 0 00.71.29 1 1 0 00.7-.29.94.94 0 000-1.36L17 22.34v-4.67L21.2 20l1.36 4.87a1 1 0 001 .72.78.78 0 00.26 0 1 1 0 00.71-1.18l-.84-3 3.1 1.72a1 1 0 001.37-.35.94.94 0 00-.37-1.31l-3.1-1.73 3.13-.81a1 1 0 00.67-1.22z\"></path></svg></span><div class=\"Spacer-c11n-8-65-2__sc-17suqs2-0 eAcJGW\"></div> <span class=\"Text-c11n-8-65-2__sc-aiai24-0 dpf__sc-2arhs5-3 kpJbvM btxEYg\">No data</span> </li> <li class=\"dpf__sc-2arhs5-0 ecJCxh\"> <span class=\"dpf__sc-2arhs5-1 iJTVOZ\"><svg viewbox=\"0 0 32 32\" aria-hidden=\"true\" focusable=\"false\" role=\"img\" class=\"Icon-c11n-8-65-2__sc-13llmml-0 gSYUJI\"><title>Parking</title> <g stroke=\"none\"><path d=\"M28,4V28H4V4H28m0-2H4A2,2,0,0,0,2,4V28a2,2,0,0,0,2,2H28a2,2,0,0,0,2-2V4a2,2,0,0,0-2-2Z\"></path><path d=\"M17.56,8H11V24h4V19h2.52A5.13,5.13,0,0,0,23,13.53,5.18,5.18,0,0,0,17.56,8Zm-1,8H15V11h1.94a2.29,2.29,0,0,1,2.5,2.5C19.44,15.32,18.32,16,16.51,16Z\"></path></g></svg></span><div class=\"Spacer-c11n-8-65-2__sc-17suqs2-0 eAcJGW\"></div> <span class=\"Text-c11n-8-65-2__sc-aiai24-0 dpf__sc-2arhs5-3 kpJbvM btxEYg\">1 Parking space</span> </li> </ul>',\n",
              "  'images': ['https://photos.zillowstatic.com/fp/67a4898701daa5dfa6974fa116bf2949-cc_ft_960.jpg',\n",
              "   'https://photos.zillowstatic.com/fp/877147943c72518678ff35b8967b8faa-cc_ft_576.jpg',\n",
              "   'https://photos.zillowstatic.com/fp/b185f21bb3d25afa3ccb11edeb60a663-cc_ft_576.jpg',\n",
              "   'https://photos.zillowstatic.com/fp/7cc56ca0261b75a8e74878f97ee0812e-cc_ft_576.jpg',\n",
              "   'https://photos.zillowstatic.com/fp/5d07d2beb3e12a4d07d93e1099b6428a-cc_ft_576.jpg',\n",
              "   'https://photos.zillowstatic.com/fp/5d0a598c647caf7b82cd712326e6572f-cc_ft_576.jpg',\n",
              "   'https://photos.zillowstatic.com/fp/1928dc04a1e7416f99d43db35ec60695-cc_ft_576.jpg'],\n",
              "  'living_area': '',\n",
              "  'overview': '',\n",
              "  'price': '',\n",
              "  'saves': '',\n",
              "  'status': '',\n",
              "  'time_on_zillow': '|',\n",
              "  'views': ''},\n",
              " 'success': True}"
            ]
          },
          "metadata": {},
          "execution_count": 158
        }
      ]
    },
    {
      "cell_type": "code",
      "source": [
        "  \n",
        "import requests\n",
        "import json\n",
        "\n",
        "api_url = 'https://www.page2api.com/api/v1/scrape'\n",
        "payload = {\n",
        "  \"api_key\": \"c40ddb7dc75637af445be1ff2066b96136983936\",\n",
        "  \"url\": \"https://www.zillow.com/homes/Toronto,-ON_rb/\",\n",
        "  \"real_browser\": True,\n",
        "  \"merge_loops\": True,\n",
        "  \"premium_proxy\": \"de\",\n",
        "  \"scenario\": [\n",
        "    {\n",
        "      \"loop\": [\n",
        "        { \"wait_for\": \"article.list-card\" },\n",
        "        { \"execute_js\": \"var articles = document.querySelectorAll('article')\"},\n",
        "        { \"execute_js\": \"articles[Math.round(articles.length/4)]?.scrollIntoView({behavior: 'smooth'})\"},\n",
        "        { \"wait\": 1 },\n",
        "        { \"execute_js\": \"articles[Math.round(articles.length/2)]?.scrollIntoView({behavior: 'smooth'})\"},\n",
        "        { \"wait\": 1 },\n",
        "        { \"execute_js\": \"articles[Math.round(articles.length/1.5)]?.scrollIntoView({behavior: 'smooth'})\"},\n",
        "        { \"wait\": 1 },\n",
        "        { \"execute\": \"parse\"},\n",
        "        { \"execute_js\": \"var next = document.querySelector('.search-pagination a[rel=next]'); if(next){ next.click() }\" }\n",
        "      ],\n",
        "      \"iterations\": 5,\n",
        "      \"stop_condition\": \"var next = document.querySelector('.search-pagination a[rel=next]'); next === null || next.getAttributeNames().includes('disabled')\"\n",
        "    }\n",
        "  ],\n",
        "  \"parse\": {\n",
        "    \"properties\": [\n",
        "      {\n",
        "        \"_parent\": \"article.list-card\",\n",
        "        \"price\": \".list-card-price >> text\",\n",
        "        \"url\": \"a >> href\",\n",
        "        \"bedrooms\": \"ul.list-card-details li:nth-child(1) >> text\",\n",
        "        \"bathrooms\": \"ul.list-card-details li:nth-child(2) >> text\",\n",
        "        \"living_area\": \"ul.list-card-details li:nth-child(3) >> text\",\n",
        "        \"status\": \"ul.list-card-details li:nth-child(4) >> text\",\n",
        "        \"address\": \"a address.list-card-addr >> text\"\n",
        "      }\n",
        "    ]\n",
        "  }\n",
        "}\n",
        "\n",
        "headers = {'Content-type': 'application/json', 'Accept': 'text/plain'}\n",
        "response = requests.post(api_url, data=json.dumps(payload), headers=headers)\n",
        "result = json.loads(response.text)\n",
        "\n",
        "print(result)\n",
        "      "
      ],
      "metadata": {
        "colab": {
          "base_uri": "https://localhost:8080/"
        },
        "id": "TUGF4AHNswr7",
        "outputId": "0b588666-3f43-403b-9643-77ad9363cc1a"
      },
      "execution_count": null,
      "outputs": [
        {
          "output_type": "stream",
          "name": "stdout",
          "text": [
            "{'result': {'properties': None}, 'request': {'parse': {'properties': [{'_parent': 'article.list-card', 'price': '.list-card-price >> text', 'url': 'a >> href', 'bedrooms': 'ul.list-card-details li:nth-child(1) >> text', 'bathrooms': 'ul.list-card-details li:nth-child(2) >> text', 'living_area': 'ul.list-card-details li:nth-child(3) >> text', 'status': 'ul.list-card-details li:nth-child(4) >> text', 'address': 'a address.list-card-addr >> text'}]}, 'scenario': [{'loop': [{'wait_for': 'article.list-card'}, {'execute_js': \"var articles = document.querySelectorAll('article')\"}, {'execute_js': \"articles[Math.round(articles.length/4)]?.scrollIntoView({behavior: 'smooth'})\"}, {'wait': 1}, {'execute_js': \"articles[Math.round(articles.length/2)]?.scrollIntoView({behavior: 'smooth'})\"}, {'wait': 1}, {'execute_js': \"articles[Math.round(articles.length/1.5)]?.scrollIntoView({behavior: 'smooth'})\"}, {'wait': 1}, {'execute': 'parse'}, {'execute_js': \"var next = document.querySelector('.search-pagination a[rel=next]'); if(next){ next.click() }\"}], 'iterations': 5, 'stop_condition': \"var next = document.querySelector('.search-pagination a[rel=next]'); next === null || next.getAttributeNames().includes('disabled')\"}], 'url': 'https://www.zillow.com/homes/Toronto,-ON_rb/', 'merge_loops': True, 'premium_proxy': 'de', 'real_browser': True}, 'id': 3870119, 'pages_parsed': 5, 'cost': 0.0625, 'success': True, 'error': \"Element 'article.list-card' was not found on the page.\", 'duration': 78.62}\n"
          ]
        }
      ]
    },
    {
      "cell_type": "code",
      "source": [
        "# result['result']['properties']"
      ],
      "metadata": {
        "id": "lWsi9awfs_bZ"
      },
      "execution_count": null,
      "outputs": []
    },
    {
      "cell_type": "code",
      "source": [
        "df = pd.DataFrame(result['result']['properties'])\n",
        "len(df)"
      ],
      "metadata": {
        "colab": {
          "base_uri": "https://localhost:8080/"
        },
        "id": "9hsxLKoD6A4t",
        "outputId": "4b47edf9-d38d-4e1b-bf97-050d871516b8"
      },
      "execution_count": null,
      "outputs": [
        {
          "output_type": "execute_result",
          "data": {
            "text/plain": [
              "0"
            ]
          },
          "metadata": {},
          "execution_count": 156
        }
      ]
    },
    {
      "cell_type": "code",
      "source": [
        "df.head()"
      ],
      "metadata": {
        "id": "3AjStgRLzK8q"
      },
      "execution_count": null,
      "outputs": []
    },
    {
      "cell_type": "code",
      "source": [
        "df.duplicated().value_counts()"
      ],
      "metadata": {
        "colab": {
          "base_uri": "https://localhost:8080/"
        },
        "id": "YWWJ7Q_NuK0L",
        "outputId": "4efb4de8-3dd2-41a3-8434-2ceab2b1fe4b"
      },
      "execution_count": null,
      "outputs": [
        {
          "output_type": "execute_result",
          "data": {
            "text/plain": [
              "False    63\n",
              "dtype: int64"
            ]
          },
          "metadata": {},
          "execution_count": 115
        }
      ]
    },
    {
      "cell_type": "code",
      "source": [
        "import pandas as pd\n",
        "\n",
        "pd.DataFrame(result['bathrooms'])"
      ],
      "metadata": {
        "colab": {
          "base_uri": "https://localhost:8080/",
          "height": 207
        },
        "id": "624-wy5Y4p0f",
        "outputId": "69632474-eab4-466d-8190-7dffdec21cd2"
      },
      "execution_count": null,
      "outputs": [
        {
          "output_type": "error",
          "ename": "KeyError",
          "evalue": "ignored",
          "traceback": [
            "\u001b[0;31m---------------------------------------------------------------------------\u001b[0m",
            "\u001b[0;31mKeyError\u001b[0m                                  Traceback (most recent call last)",
            "\u001b[0;32m<ipython-input-11-44fe2cb04f13>\u001b[0m in \u001b[0;36m<module>\u001b[0;34m()\u001b[0m\n\u001b[1;32m      1\u001b[0m \u001b[0;32mimport\u001b[0m \u001b[0mpandas\u001b[0m \u001b[0;32mas\u001b[0m \u001b[0mpd\u001b[0m\u001b[0;34m\u001b[0m\u001b[0;34m\u001b[0m\u001b[0m\n\u001b[1;32m      2\u001b[0m \u001b[0;34m\u001b[0m\u001b[0m\n\u001b[0;32m----> 3\u001b[0;31m \u001b[0mpd\u001b[0m\u001b[0;34m.\u001b[0m\u001b[0mDataFrame\u001b[0m\u001b[0;34m(\u001b[0m\u001b[0mresult\u001b[0m\u001b[0;34m[\u001b[0m\u001b[0;34m'bathrooms'\u001b[0m\u001b[0;34m]\u001b[0m\u001b[0;34m)\u001b[0m\u001b[0;34m\u001b[0m\u001b[0;34m\u001b[0m\u001b[0m\n\u001b[0m",
            "\u001b[0;31mKeyError\u001b[0m: 'bathrooms'"
          ]
        }
      ]
    },
    {
      "cell_type": "code",
      "source": [
        "import requests\n",
        "import json\n",
        "\n",
        "api_url = 'https://www.page2api.com/api/v1/scrape'\n",
        "payload = {\n",
        "  \"api_key\": \"2e5ced1f9eff90c8d61f9de3311b9551aee188b6\",\n",
        "  \"url\": \"https://www.zillow.com/homes/Redwood-City,-CA_rb/\",\n",
        "  \"real_browser\": True,\n",
        "  \"merge_loops\": True,\n",
        "  \"premium_proxy\": \"de\",\n",
        "  \"scenario\": [\n",
        "    {\n",
        "      \"loop\": [\n",
        "        { \"wait_for\": \"article.list-card\" },\n",
        "        { \"execute_js\": \"var articles = document.querySelectorAll('article')\"},\n",
        "        { \"execute_js\": \"articles[Math.round(articles.length/4)]?.scrollIntoView({behavior: 'smooth'})\"},\n",
        "        { \"wait\": 1 },\n",
        "        { \"execute_js\": \"articles[Math.round(articles.length/2)]?.scrollIntoView({behavior: 'smooth'})\"},\n",
        "        { \"wait\": 1 },\n",
        "        { \"execute_js\": \"articles[Math.round(articles.length/1.5)]?.scrollIntoView({behavior: 'smooth'})\"},\n",
        "        { \"wait\": 1 },\n",
        "        { \"execute\": \"parse\"},\n",
        "        { \"execute_js\": \"var next = document.querySelector('.search-pagination a[rel=next]'); if(next){ next.click() }\" }\n",
        "      ],\n",
        "      \"iterations\": 5,\n",
        "      \"stop_condition\": \"var next = document.querySelector('.search-pagination a[rel=next]'); next === null || next.getAttributeNames().includes('disabled')\"\n",
        "    }\n",
        "  ],\n",
        "  \"parse\": {\n",
        "    \"properties\": [\n",
        "      {\n",
        "        \"_parent\": \"article.list-card\",\n",
        "        \"price\": \".list-card-price >> text\",\n",
        "        \"url\": \"a >> href\",\n",
        "        \"bedrooms\": \"ul.list-card-details li:nth-child(1) >> text\",\n",
        "        \"bathrooms\": \"ul.list-card-details li:nth-child(2) >> text\",\n",
        "        \"living_area\": \"ul.list-card-details li:nth-child(3) >> text\",\n",
        "        \"status\": \"ul.list-card-details li:nth-child(4) >> text\",\n",
        "        \"address\": \"a address.list-card-addr >> text\"\n",
        "      }\n",
        "    ]\n",
        "  }\n",
        "}\n",
        "\n",
        "headers = {'Content-type': 'application/json', 'Accept': 'text/plain'}\n",
        "response = requests.post(api_url, data=json.dumps(payload), headers=headers)\n",
        "result = json.loads(response.text)\n",
        "\n",
        "print(result)"
      ],
      "metadata": {
        "colab": {
          "base_uri": "https://localhost:8080/"
        },
        "id": "LKsC2fy55X0v",
        "outputId": "c5af326d-5b55-440b-c394-223da091e7d9"
      },
      "execution_count": null,
      "outputs": [
        {
          "output_type": "stream",
          "name": "stdout",
          "text": [
            "{'result': {'properties': None}, 'request': {'parse': {'properties': [{'_parent': 'article.list-card', 'price': '.list-card-price >> text', 'url': 'a >> href', 'bedrooms': 'ul.list-card-details li:nth-child(1) >> text', 'bathrooms': 'ul.list-card-details li:nth-child(2) >> text', 'living_area': 'ul.list-card-details li:nth-child(3) >> text', 'status': 'ul.list-card-details li:nth-child(4) >> text', 'address': 'a address.list-card-addr >> text'}]}, 'scenario': [{'loop': [{'wait_for': 'article.list-card'}, {'execute_js': \"var articles = document.querySelectorAll('article')\"}, {'execute_js': \"articles[Math.round(articles.length/4)]?.scrollIntoView({behavior: 'smooth'})\"}, {'wait': 1}, {'execute_js': \"articles[Math.round(articles.length/2)]?.scrollIntoView({behavior: 'smooth'})\"}, {'wait': 1}, {'execute_js': \"articles[Math.round(articles.length/1.5)]?.scrollIntoView({behavior: 'smooth'})\"}, {'wait': 1}, {'execute': 'parse'}, {'execute_js': \"var next = document.querySelector('.search-pagination a[rel=next]'); if(next){ next.click() }\"}], 'iterations': 5, 'stop_condition': \"var next = document.querySelector('.search-pagination a[rel=next]'); next === null || next.getAttributeNames().includes('disabled')\"}], 'url': 'https://www.zillow.com/homes/Redwood-City,-CA_rb/', 'merge_loops': True, 'premium_proxy': 'de', 'real_browser': True}, 'id': 3869550, 'pages_parsed': 3, 'cost': 0.0375, 'success': True, 'error': \"Element 'article.list-card' was not found on the page.\", 'duration': 49.59}\n"
          ]
        }
      ]
    },
    {
      "cell_type": "code",
      "source": [
        "result"
      ],
      "metadata": {
        "colab": {
          "base_uri": "https://localhost:8080/"
        },
        "id": "HnAsHiVU7w_D",
        "outputId": "039d3176-17ec-4e79-bb4a-e798007c0769"
      },
      "execution_count": null,
      "outputs": [
        {
          "output_type": "execute_result",
          "data": {
            "text/plain": [
              "{'cost': 0.0375,\n",
              " 'duration': 49.59,\n",
              " 'error': \"Element 'article.list-card' was not found on the page.\",\n",
              " 'id': 3869550,\n",
              " 'pages_parsed': 3,\n",
              " 'request': {'merge_loops': True,\n",
              "  'parse': {'properties': [{'_parent': 'article.list-card',\n",
              "     'address': 'a address.list-card-addr >> text',\n",
              "     'bathrooms': 'ul.list-card-details li:nth-child(2) >> text',\n",
              "     'bedrooms': 'ul.list-card-details li:nth-child(1) >> text',\n",
              "     'living_area': 'ul.list-card-details li:nth-child(3) >> text',\n",
              "     'price': '.list-card-price >> text',\n",
              "     'status': 'ul.list-card-details li:nth-child(4) >> text',\n",
              "     'url': 'a >> href'}]},\n",
              "  'premium_proxy': 'de',\n",
              "  'real_browser': True,\n",
              "  'scenario': [{'iterations': 5,\n",
              "    'loop': [{'wait_for': 'article.list-card'},\n",
              "     {'execute_js': \"var articles = document.querySelectorAll('article')\"},\n",
              "     {'execute_js': \"articles[Math.round(articles.length/4)]?.scrollIntoView({behavior: 'smooth'})\"},\n",
              "     {'wait': 1},\n",
              "     {'execute_js': \"articles[Math.round(articles.length/2)]?.scrollIntoView({behavior: 'smooth'})\"},\n",
              "     {'wait': 1},\n",
              "     {'execute_js': \"articles[Math.round(articles.length/1.5)]?.scrollIntoView({behavior: 'smooth'})\"},\n",
              "     {'wait': 1},\n",
              "     {'execute': 'parse'},\n",
              "     {'execute_js': \"var next = document.querySelector('.search-pagination a[rel=next]'); if(next){ next.click() }\"}],\n",
              "    'stop_condition': \"var next = document.querySelector('.search-pagination a[rel=next]'); next === null || next.getAttributeNames().includes('disabled')\"}],\n",
              "  'url': 'https://www.zillow.com/homes/Redwood-City,-CA_rb/'},\n",
              " 'result': {'properties': None},\n",
              " 'success': True}"
            ]
          },
          "metadata": {},
          "execution_count": 18
        }
      ]
    }
  ]
}